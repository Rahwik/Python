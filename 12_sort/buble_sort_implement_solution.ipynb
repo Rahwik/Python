{
 "cells": [
  {
   "cell_type": "code",
   "execution_count": null,
   "metadata": {
    "collapsed": true
   },
   "outputs": [],
   "source": [
    "def bubbleSort(nlist):\n",
    "    for passnum in range(len(nlist)-1,0,-1):\n",
    "        for i in range(passnum):\n",
    "            if nlist[i]>nlist[i+1]:\n",
    "                temp = nlist[i]\n",
    "                nlist[i] = nlist[i+1]\n",
    "                nlist[i+1] = temp\n",
    "\n",
    "nlist = [14,46,43,27,57,41,45,21,70]\n",
    "bubbleSort(nlist)\n",
    "print(nlist)"
   ]
  }
 ],
 "metadata": {
  "kernelspec": {
   "display_name": "Python 3",
   "language": "python",
   "name": "python3"
  },
  "language_info": {
   "codemirror_mode": {
    "name": "ipython",
    "version": 3
   },
   "file_extension": ".py",
   "mimetype": "text/x-python",
   "name": "python",
   "nbconvert_exporter": "python",
   "pygments_lexer": "ipython3",
   "version": "3.6.1"
  }
 },
 "nbformat": 4,
 "nbformat_minor": 2
}
