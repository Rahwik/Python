{
 "cells": [
  {
   "cell_type": "code",
   "execution_count": 1,
   "metadata": {},
   "outputs": [
    {
     "name": "stdout",
     "output_type": "stream",
     "text": [
      "[14, 21, 27, 41, 43, 45, 46, 57, 70]\n"
     ]
    }
   ],
   "source": [
    "def insertionSort(nlist):\n",
    "   for index in range(1,len(nlist)):\n",
    "\n",
    "     currentvalue = nlist[index]\n",
    "     position = index\n",
    "\n",
    "     while position>0 and nlist[position-1]>currentvalue:\n",
    "         nlist[position]=nlist[position-1]\n",
    "         position = position-1\n",
    "\n",
    "     nlist[position]=currentvalue\n",
    "\n",
    "nlist = [14,46,43,27,57,41,45,21,70]\n",
    "insertionSort(nlist)\n",
    "print(nlist)"
   ]
  }
 ],
 "metadata": {
  "kernelspec": {
   "display_name": "Python 3",
   "language": "python",
   "name": "python3"
  },
  "language_info": {
   "codemirror_mode": {
    "name": "ipython",
    "version": 3
   },
   "file_extension": ".py",
   "mimetype": "text/x-python",
   "name": "python",
   "nbconvert_exporter": "python",
   "pygments_lexer": "ipython3",
   "version": "3.6.1"
  }
 },
 "nbformat": 4,
 "nbformat_minor": 2
}
